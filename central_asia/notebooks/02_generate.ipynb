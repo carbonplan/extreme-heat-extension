{
 "cells": [
  {
   "cell_type": "markdown",
   "id": "0",
   "metadata": {},
   "source": [
    "# 02: Generate gridded WBGT in the shade estimates\n",
    "*Use downscaled CMIP6 projections from the [NEX-GDDP-CMIP6 dataset](https://www.nccs.nasa.gov/services/data-collections/land-based-products/nex-gddp-cmip6) to generate gridded estimates of WBGT. The projections cover historical and future (SSP2-4.5) periods at a daily timestep and 0.25 degree resolution for the entire globe's land surface.*"
   ]
  },
  {
   "cell_type": "code",
   "execution_count": null,
   "id": "1",
   "metadata": {
    "tags": []
   },
   "outputs": [],
   "source": [
    "import os\n",
    "\n",
    "import coiled\n",
    "import dask\n",
    "import numpy as np\n",
    "import thermofeel as tf\n",
    "import xarray as xr\n",
    "import xclim\n",
    "from utils import gcm_list, load_nasanex, wbgt\n",
    "\n",
    "os.environ[\"USE_PYGEOS\"] = \"0\""
   ]
  },
  {
   "cell_type": "code",
   "execution_count": null,
   "id": "2",
   "metadata": {},
   "outputs": [],
   "source": [
    "def adjust_pressure(temperature, elevation):\n",
    "    \"\"\"\n",
    "    Approximate surface pressure given the elevation and temperature.\n",
    "    Method from https://doi.org/10.1038/s41598-019-50047-w\n",
    "    \"\"\"\n",
    "    return 101325 * np.power(10, -elevation / (18400 * temperature / 273.15))"
   ]
  },
  {
   "cell_type": "markdown",
   "id": "3",
   "metadata": {},
   "source": [
    "Set up cluster to handle multiprocessing using a Dask client."
   ]
  },
  {
   "cell_type": "code",
   "execution_count": null,
   "id": "4",
   "metadata": {
    "tags": []
   },
   "outputs": [],
   "source": [
    "# cluster = coiled.Cluster(n_workers=3, worker_memory=\"64 GiB\")\n",
    "cluster = coiled.Cluster(\n",
    "n_workers=10,\n",
    "worker_vm_types=[\"m8g.4xlarge\"],\n",
    "scheduler_vm_types=[\"m8g.4xlarge\"],\n",
    "region=\"us-west-2\",\n",
    "spot_policy=\"spot_with_fallback\")\n",
    "\n",
    "\n",
    "cluster.adapt(minimum=3, maximum=30)\n",
    "\n",
    "client = cluster.get_client()"
   ]
  },
  {
   "cell_type": "markdown",
   "id": "5",
   "metadata": {},
   "source": [
    "Read in elevation data, which was processed in `01_elevation.ipynb`."
   ]
  },
  {
   "cell_type": "code",
   "execution_count": null,
   "id": "6",
   "metadata": {},
   "outputs": [],
   "source": [
    "elev = xr.open_zarr(\n",
    "    \"s3://carbonplan-climate-impacts/extreme-heat/v1.0/inputs/elevation.zarr\"\n",
    ")\n",
    "elev = elev.chunk({\"lat\": -1, \"lon\": -1}).compute()"
   ]
  },
  {
   "cell_type": "markdown",
   "id": "7",
   "metadata": {},
   "source": [
    "Identify which scenarios and years to evaluate."
   ]
  },
  {
   "cell_type": "code",
   "execution_count": null,
   "id": "8",
   "metadata": {
    "tags": []
   },
   "outputs": [],
   "source": [
    "scenario_years = {\n",
    "    \"historical\": np.arange(1985, 2015),\n",
    "    \"ssp245\": np.arange(2015, 2091),\n",
    "    \"ssp370\": np.arange(2015, 2091),\n",
    "}"
   ]
  },
  {
   "cell_type": "markdown",
   "id": "9",
   "metadata": {},
   "source": [
    "Calculate future projections of WBGT."
   ]
  },
  {
   "cell_type": "code",
   "execution_count": null,
   "id": "10",
   "metadata": {
    "tags": []
   },
   "outputs": [],
   "source": [
    "generate_wbgt_projections = True\n",
    "variables = [\"tasmax\", \"huss\", \"tas\"]\n",
    "if generate_wbgt_projections:\n",
    "    for gcm in gcm_list:\n",
    "        for scenario, years in scenario_years.items():\n",
    "            id_string = f\"{gcm}-{scenario}\"\n",
    "            print(id_string)\n",
    "            for year in years:\n",
    "                print(year)\n",
    "                output = (\n",
    "                    f\"s3://carbonplan-scratch/extreme-heat/wbgt-shade-\"\n",
    "                    f\"gridded/years/{gcm}/{id_string}-{year}.zarr\"\n",
    "                )\n",
    "                ds = load_nasanex(\n",
    "                    gcm=gcm,\n",
    "                    scenario=scenario,\n",
    "                    variables=variables,\n",
    "                    years=[year],\n",
    "                    chunk_dict={\"time\": 40},\n",
    "                )\n",
    "\n",
    "                # calculate elevation-adjusted pressure\n",
    "                ds[\"ps\"] = xr.apply_ufunc(\n",
    "                    adjust_pressure, ds[\"tas\"], elev, dask=\"allowed\"\n",
    "                ).rename({\"elevation\": \"ps\"})[\"ps\"]\n",
    "                ds[\"ps\"].attrs[\"units\"] = \"Pa\"\n",
    "                ds[\"hurs\"] = xclim.indices.relative_humidity(\n",
    "                    tas=ds[\"tasmax\"], huss=ds[\"huss\"], ps=ds[\"ps\"]\n",
    "                )\n",
    "                ds[\"tasmax\"].attrs = {}\n",
    "\n",
    "                # windspeed assumption of 0.5 m/s (approximating shaded/indoor\n",
    "                # conditions)\n",
    "                ds[\"sfcWind\"] = (ds[\"tas\"] - ds[\"tas\"]) + 0.5\n",
    "                ds[\"WBT\"] = tf.thermofeel.calculate_wbt(\n",
    "                    ds[\"tasmax\"] - 273.15, ds[\"hurs\"]\n",
    "                )\n",
    "\n",
    "                ds[\"BGT\"] = tf.thermofeel.calculate_bgt(\n",
    "                    ds[\"tasmax\"], ds[\"tasmax\"], ds[\"sfcWind\"]\n",
    "                )\n",
    "                ds[\"WBGT\"] = wbgt(ds[\"WBT\"], ds[\"BGT\"], ds[\"tasmax\"] - 273.15)\n",
    "                ds[\"WBGT\"].attrs[\"units\"] = \"degC\"\n",
    "                ds = ds[[\"WBGT\"]]\n",
    "                ds = dask.optimize(ds)[0]\n",
    "                t = ds.to_zarr(output, consolidated=True, mode=\"w\", compute=False)\n",
    "                t.compute()"
   ]
  },
  {
   "cell_type": "code",
   "execution_count": null,
   "id": "17c4906a",
   "metadata": {},
   "outputs": [],
   "source": []
  }
 ],
 "metadata": {
  "kernelspec": {
   "display_name": "extreme-heat",
   "language": "python",
   "name": "python3"
  },
  "language_info": {
   "codemirror_mode": {
    "name": "ipython",
    "version": 3
   },
   "file_extension": ".py",
   "mimetype": "text/x-python",
   "name": "python",
   "nbconvert_exporter": "python",
   "pygments_lexer": "ipython3",
   "version": "3.12.8"
  }
 },
 "nbformat": 4,
 "nbformat_minor": 5
}
