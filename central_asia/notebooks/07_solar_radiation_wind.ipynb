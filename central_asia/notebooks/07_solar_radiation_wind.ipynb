{
 "cells": [
  {
   "cell_type": "markdown",
   "id": "0",
   "metadata": {},
   "source": [
    "# 07: Solar radiation and wind data aggregation\n",
    "*Extract daily solar radiation and wind data for subsequent use in developing WBGT in the sun estimates in `08_shade_sun_adjustment.ipynb`.*"
   ]
  },
  {
   "cell_type": "code",
   "execution_count": 1,
   "id": "03b24d25",
   "metadata": {},
   "outputs": [],
   "source": [
    "\n",
    "import dask\n",
    "import numpy as np\n",
    "import pandas as pd\n",
    "import xarray as xr\n",
    "from metsim.datetime import date_range\n",
    "from metsim.disaggregate import shortwave\n",
    "from metsim.physics import solar_geom\n",
    "from tqdm.notebook import tqdm\n",
    "import coiled \n",
    "import dask.array as da\n",
    "import sparse \n",
    "from dask import delayed \n",
    "from utils import (\n",
    "    prep_sparse,\n",
    "    spatial_aggregation,\n",
    "    gcm_list,\n",
    "    load_regions,\n",
    "    load_virtual_nasa_nex,\n",
    "    remove_360_longitudes,\n",
    "    gcms_with_nonstandard_calendars_list\n",
    ")\n"
   ]
  },
  {
   "cell_type": "code",
   "execution_count": null,
   "id": "0ed54592",
   "metadata": {},
   "outputs": [],
   "source": [
    "cluster = coiled.Cluster(\n",
    "    n_workers=20,\n",
    "    name='07',\n",
    "    worker_vm_types=[\"m7g.medium\"],\n",
    "    scheduler_vm_types=[\"m7g.medium\"],\n",
    "    region=\"us-west-2\",\n",
    "    spot_policy=\"spot_with_fallback\",\n",
    ")\n",
    "\n",
    "cluster.adapt(minimum=1, maximum=100)\n",
    "\n",
    "client = cluster.get_client()"
   ]
  },
  {
   "cell_type": "code",
   "execution_count": 3,
   "id": "3e6d8d38",
   "metadata": {},
   "outputs": [],
   "source": [
    "@delayed\n",
    "def process_gcm(gcm: tuple, sparse_weights) -> str:\n",
    "    \"\"\"\n",
    "    Process GCM historical and ssps using the pre-calculated sparse weights.\n",
    "    \"\"\"\n",
    "    historical = load_virtual_nasa_nex(\n",
    "        gcm=gcm, \n",
    "        scenario=\"historical\"\n",
    "    )[[\"rsds\", \"sfcWind\"]].pipe(\n",
    "        remove_360_longitudes\n",
    "    ).chunk({'time':30, 'lat':600,'lon':1440})\n",
    "    \n",
    "    historical_agg = spatial_aggregation(historical, sparse_weights)\n",
    "    \n",
    "    # Process each SSP scenario\n",
    "    for scenario in [\"ssp245\", \"ssp370\"]:\n",
    "        # Load SSP data\n",
    "        ssp = load_virtual_nasa_nex(\n",
    "            gcm=gcm, \n",
    "            scenario=scenario\n",
    "        )[[\"rsds\", \"sfcWind\"]].pipe(\n",
    "            remove_360_longitudes\n",
    "        ).chunk({'time':30, 'lat':600,'lon':1440})\n",
    "        \n",
    "        ssp_agg = spatial_aggregation(ssp, sparse_weights)\n",
    "        \n",
    "        # Concatenate historical + SSP\n",
    "        combined = xr.concat([historical_agg, ssp_agg], dim=\"time\")\n",
    "        \n",
    "        if gcm in gcms_with_nonstandard_calendars_list:\n",
    "            combined = combined.convert_calendar(\n",
    "                \"gregorian\",\n",
    "                dim=\"time\",\n",
    "                align_on=\"year\",\n",
    "                missing=np.nan,\n",
    "                use_cftime=None,\n",
    "            )\n",
    "            combined = combined.interpolate_na(\n",
    "                dim=\"time\", \n",
    "                method=\"linear\"\n",
    "            )\n",
    "            \n",
    "        # Save to Zarr\n",
    "        output_path = f\"s3://carbonplan-scratch/extreme-heat/wind_solrad-regions/{gcm}-{scenario}-wind-solrad-regions.zarr\"\n",
    "        combined.to_zarr(output_path, consolidated=True, mode=\"w\")\n",
    "    \n",
    "    return gcm"
   ]
  },
  {
   "cell_type": "code",
   "execution_count": 3,
   "id": "b34902fc",
   "metadata": {},
   "outputs": [],
   "source": [
    "regions_df = load_regions(extension=\"central-asia\")\n",
    "population = xr.open_zarr(\n",
    "    \"s3://carbonplan-climate-impacts/extreme-heat/v1.0/inputs/\"\n",
    "    \"GHS_POP_E2030_GLOBE_R2023A_4326_30ss_V1_0_resampled_to_CP.zarr\"\n",
    ").rename({\"x\": \"lon\", \"y\": \"lat\"}).drop_vars(\"spatial_ref\")\n"
   ]
  },
  {
   "cell_type": "code",
   "execution_count": null,
   "id": "973b008d",
   "metadata": {},
   "outputs": [],
   "source": [
    "# Create delayed objects for each GCM\n",
    "sample_ds = load_virtual_nasa_nex(gcm=\"ACCESS-CM2\", scenario=\"historical\")[[\"rsds\", \"sfcWind\"]].pipe(remove_360_longitudes).isel(time=slice(0,1)) \n",
    "\n",
    "sparse_weights_da = prep_sparse(sample_ds,population, regions_df,variables_to_drop=[\"rsds\", \"sfcWind\"])\n",
    "sparse_weights_da\n",
    "\n",
    "gcm_list = gcm_list[0:1] # subset access\n",
    "\n",
    "delayed_results = []\n",
    "for gcm in gcm_list:\n",
    "    result = process_gcm(gcm, sparse_weights_da)\n",
    "\n",
    "    delayed_results.append(result)\n",
    "\n"
   ]
  },
  {
   "cell_type": "code",
   "execution_count": 7,
   "id": "0c7b552e",
   "metadata": {},
   "outputs": [],
   "source": [
    "results = dask.compute(*delayed_results, retries=2)\n"
   ]
  },
  {
   "cell_type": "markdown",
   "id": "8",
   "metadata": {},
   "source": [
    "Calculate representative elevation and latitude for each region, which will be used below by `metsim` for solar geometry calculations."
   ]
  },
  {
   "cell_type": "code",
   "execution_count": null,
   "id": "258ac9ea",
   "metadata": {},
   "outputs": [],
   "source": [
    "elev = xr.open_zarr(\n",
    "    \"s3://carbonplan-climate-impacts/extreme-heat/v1.0/inputs/elevation.zarr\"\n",
    ")\n",
    "elev = elev.chunk({\"lat\": -1, \"lon\": -1}).compute()\n",
    "elev.coords['lon'] = (elev.coords['lon'] + 180) % 360 - 180\n",
    "elev = elev.sortby(elev.lon)\n",
    "sparse_weights = prep_sparse(sample_ds, population, regions_df, return_population=False)\n",
    "# # attach a placeholder time timension\n",
    "elev = elev.expand_dims(dim=\"time\").assign_coords(\n",
    "    {\"time\": pd.date_range(\"2000-01-01\", \"2000-01-01\")}\n",
    ")\n",
    "assert (population[\"lon\"].values == elev[\"lon\"].values).all()\n",
    "assert (population[\"lat\"].values == elev[\"lat\"].values).all()\n",
    "assert (\n",
    "    population[\"population\"].values.shape == elev[\"elevation\"].isel(time=0).values.shape\n",
    ")\n",
    "elev_regions = spatial_aggregation(elev, sparse_weights).drop(\"time\")"
   ]
  },
  {
   "cell_type": "code",
   "execution_count": null,
   "id": "f3613982",
   "metadata": {},
   "outputs": [],
   "source": [
    "lat_ds = xr.Dataset(\n",
    "    {\n",
    "        \"latitude\": xr.DataArray(\n",
    "            data=np.tile(elev.lat.values, (len(elev.lon.values), 1)).transpose(),\n",
    "            coords={\"lat\": elev.lat.values, \"lon\": elev.lon.values},\n",
    "        )\n",
    "    }\n",
    ")\n",
    "# attach a placeholder time dimension\n",
    "lat_ds = lat_ds.expand_dims(dim=\"time\").assign_coords(\n",
    "    {\"time\": pd.date_range(\"2000-01-01\", \"2000-01-01\")}\n",
    ")\n",
    "assert (population[\"lon\"].values == lat_ds[\"lon\"].values).all()\n",
    "assert (population[\"lat\"].values == lat_ds[\"lat\"].values).all()\n",
    "assert (\n",
    "    population[\"population\"].values.shape\n",
    "    == lat_ds[\"latitude\"].isel(time=0).values.shape\n",
    ")\n",
    "lat_regions = spatial_aggregation(lat_ds, sparse_weights).drop(\"time\")"
   ]
  },
  {
   "cell_type": "markdown",
   "id": "11",
   "metadata": {},
   "source": [
    "Take advantage of utilities in the `metsim` package, developed largely by Andrew Bennett at the University of Arizona. The `solar_geom`, `shortwave`, and `date_range` functions are slightly different from their implementations in the `metsim` package for this use case which focuses solely on solar radiation."
   ]
  },
  {
   "cell_type": "markdown",
   "id": "ab2e5d8b",
   "metadata": {},
   "source": [
    "For each region, use elevation and latitude information calculated above to derive radiation parameters like day length and subdaily maximum solar radiation. This calculation only needs to be done once because, while it varies in time throughout the year for every location, it will be the same for every projection."
   ]
  },
  {
   "cell_type": "code",
   "execution_count": 7,
   "id": "7a22a55c",
   "metadata": {},
   "outputs": [],
   "source": [
    "params = {\n",
    "    \"time_step\": 60,\n",
    "    \"method\": \"other\",\n",
    "    \"utc_offset\": False,\n",
    "    \"calendar\": \"gregorian\",\n",
    "    \"SW_RAD_DT\": 3600,\n",
    "}"
   ]
  },
  {
   "cell_type": "code",
   "execution_count": null,
   "id": "40cfb2bb",
   "metadata": {},
   "outputs": [],
   "source": [
    "tiny_rad_fract_list, daylength_list = [], []\n",
    "for processing_id in tqdm(elev_regions.processing_id.values):\n",
    "    \n",
    "    sg = solar_geom(\n",
    "        elev_regions.sel(processing_id=processing_id)[\"elevation\"].values[0],\n",
    "        lat_regions.sel(processing_id=processing_id)[\"latitude\"].values[0],\n",
    "        -6.5,\n",
    "        params,\n",
    "    )\n",
    "    tiny_rad_fract_list.append(\n",
    "        xr.DataArray(data=sg[0], dims=(\"dayofyear\", \"tiny_timestep\"))\n",
    "    )\n",
    "    daylength_list.append(xr.DataArray(data=sg[1], dims=(\"dayofyear\")))\n",
    "radiation_parameters = xr.Dataset(\n",
    "    {\n",
    "        \"tiny_rad_fract\": xr.concat(tiny_rad_fract_list, dim=\"processing_id\"),\n",
    "        \"daylength\": xr.concat(daylength_list, dim=\"processing_id\"),\n",
    "    }\n",
    ")\n",
    "radiation_parameters = radiation_parameters.assign_coords(\n",
    "    {\"processing_id\": elev_regions.processing_id.values}\n",
    ")\n",
    "\n",
    "radiation_parameters = radiation_parameters.chunk(\n",
    "    {\"dayofyear\": -1, \"tiny_timestep\": -1, \"processing_id\": 4000}\n",
    ")\n",
    "radiation_parameters.to_zarr(\n",
    "    \"s3://carbonplan-scratch/extreme-heat/wind_solrad-regions/radiation_parameters.zarr\",zarr_format=2, mode='w',consolidated=True\n",
    ")\n",
    "radiation_parameters = xr.open_zarr(\n",
    "    \"s3://carbonplan-scratch/extreme-heat/wind_solrad-regions/radiation_parameters.zarr\"\n",
    ")"
   ]
  },
  {
   "cell_type": "markdown",
   "id": "a9f39ec5",
   "metadata": {},
   "source": [
    "Set up a dataframe template to store the data and functions for calculating maximum daily solar radiation from the daily mean solar radiation."
   ]
  },
  {
   "cell_type": "code",
   "execution_count": null,
   "id": "5ff72127",
   "metadata": {},
   "outputs": [],
   "source": [
    "df_daily_template = pd.DataFrame(index=pd.date_range(\"1985-01-01\", \"2100-12-31\"))\n",
    "stop = (\n",
    "    df_daily_template.index[-1]\n",
    "    + pd.Timedelta(\"1 days\")\n",
    "    - pd.Timedelta(\"{} minutes\".format(params[\"time_step\"]))\n",
    ")\n",
    "dates_disagg = date_range(\n",
    "    df_daily_template.index[0],\n",
    "    stop,\n",
    "    freq=\"{}T\".format(params[\"time_step\"]),\n",
    "    calendar=params[\"calendar\"],\n",
    ")\n",
    "df_disagg_template = pd.DataFrame(index=dates_disagg)\n",
    "yday = df_daily_template.index.dayofyear - 1"
   ]
  },
  {
   "cell_type": "code",
   "execution_count": 16,
   "id": "4092ac09",
   "metadata": {},
   "outputs": [],
   "source": [
    "def shortwave_wrapper(rsds, daylengths, tiny_rad_fract):\n",
    "    \"\"\"\n",
    "    Wrapper function for shortwave which supports vectorized computation\n",
    "    via `xr.ufunc`\n",
    "    \"\"\"\n",
    "\n",
    "    params = {\n",
    "        \"time_step\": 60,\n",
    "        \"method\": \"other\",\n",
    "        \"utc_offset\": False,\n",
    "        \"calendar\": \"gregorian\",\n",
    "        \"SW_RAD_DT\": 3600,\n",
    "    }\n",
    "    dayofyear = pd.date_range(\"1985-01-01\", \"2100-12-31\").dayofyear.values\n",
    "    shortwave_out = shortwave(rsds, daylengths[yday], dayofyear, tiny_rad_fract, params)\n",
    "    da = xr.DataArray(shortwave_out, dims=[\"hourlytime\"])\n",
    "    da = da.assign_coords(\n",
    "        {\n",
    "            \"hourlytime\": pd.date_range(\n",
    "                \"1985-01-01 00:00:00\", \"2100-12-31 23:00:00\", freq=\"H\"\n",
    "            )\n",
    "        }\n",
    "    )\n",
    "    output = da.resample({\"hourlytime\": \"D\"}).max().data\n",
    "    return output"
   ]
  },
  {
   "cell_type": "markdown",
   "id": "e4569383",
   "metadata": {},
   "source": [
    "Calculate maximum solar radiation given daily mean solar radiation and radiation parameters (as calculated above). This approach accounts for the cooling effect of clouds but does not capture subdaily variations in cloud cover."
   ]
  },
  {
   "cell_type": "code",
   "execution_count": 11,
   "id": "2cee3cd1",
   "metadata": {},
   "outputs": [],
   "source": [
    "gcm_list = gcm_list[0:1] \n",
    "gcm_scenario_tuples = [(gcm, scenario) for gcm in gcm_list for scenario in ['ssp245', 'ssp370']]\n"
   ]
  },
  {
   "cell_type": "code",
   "execution_count": 20,
   "id": "a11889ce",
   "metadata": {},
   "outputs": [],
   "source": [
    "radiation_parameters = radiation_parameters.chunk(\n",
    "    {\"processing_id\": 25, \"tiny_timestep\": -1, \"dayofyear\": -1}\n",
    ")\n",
    "for gcm, scenario in gcm_scenario_tuples:\n",
    "    wind_solrad_ds = xr.open_zarr(\n",
    "        f\"s3://carbonplan-scratch/extreme-heat/wind_solrad-regions/{gcm}-{scenario}-wind-solrad-regions.zarr\"\n",
    "    ).sel(time=slice(\"1985-01-01\",\"2100-12-31\")).persist()\n",
    "    wind_solrad_ds = wind_solrad_ds.chunk({\"processing_id\": -1, \"time\": -1})\n",
    "\n",
    "    max_solrad = xr.apply_ufunc(\n",
    "        shortwave_wrapper,\n",
    "        wind_solrad_ds[\"rsds\"],\n",
    "        radiation_parameters.daylength,\n",
    "        radiation_parameters.tiny_rad_fract,\n",
    "        input_core_dims=[[\"time\"], [\"dayofyear\"], [\"dayofyear\", \"tiny_timestep\"]],\n",
    "        output_core_dims=[[\"time\"]],\n",
    "        vectorize=True,\n",
    "        dask=\"parallelized\",\n",
    "        output_dtypes=[wind_solrad_ds[\"rsds\"].dtype],\n",
    "    )\n",
    "    out_store = f\"s3://carbonplan-scratch/extreme-heat/wind_solrad-regions/{gcm}-{scenario}-rsds-max-regions.zarr\"\n",
    "    max_solrad.to_zarr(out_store, zarr_format=2, mode='w',consolidated=True)"
   ]
  }
 ],
 "metadata": {
  "kernelspec": {
   "display_name": "extreme-heat",
   "language": "python",
   "name": "python3"
  },
  "language_info": {
   "codemirror_mode": {
    "name": "ipython",
    "version": 3
   },
   "file_extension": ".py",
   "mimetype": "text/x-python",
   "name": "python",
   "nbconvert_exporter": "python",
   "pygments_lexer": "ipython3",
   "version": "3.11.0"
  }
 },
 "nbformat": 4,
 "nbformat_minor": 5
}
