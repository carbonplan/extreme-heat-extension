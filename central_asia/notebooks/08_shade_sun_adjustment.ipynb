{
 "cells": [
  {
   "cell_type": "markdown",
   "id": "0",
   "metadata": {},
   "source": [
    "# 08: Develop WBGT in the sun estimates\n",
    "*Combine the solar radiation and wind values from `07_solar_radiation_wind.ipynb` to develop an estimate of how much higher WBGT would be in the sun as compared to the shade at any given day and location. Apply those time- and space-varying adjstments to the WBGT in the shade estimates developed in `06_bias_correction.ipynb` to create estimates of WBGT in the sun.*"
   ]
  },
  {
   "cell_type": "code",
   "execution_count": null,
   "id": "1",
   "metadata": {
    "tags": []
   },
   "outputs": [],
   "source": [
    "import warnings\n",
    "\n",
    "import coiled\n",
    "import numpy as np\n",
    "import pandas as pd\n",
    "import statsmodels.api as sm\n",
    "import xarray as xr\n",
    "from sklearn import linear_model\n",
    "from utils import clean_up_times, gcm_list\n",
    "\n",
    "warnings.filterwarnings(\"ignore\")"
   ]
  },
  {
   "cell_type": "markdown",
   "id": "2",
   "metadata": {},
   "source": [
    "Set up cluster to handle multiprocessing using a Dask client."
   ]
  },
  {
   "cell_type": "code",
   "execution_count": null,
   "id": "3",
   "metadata": {
    "tags": []
   },
   "outputs": [],
   "source": [
    "cluster = coiled.Cluster(\n",
    "    n_workers=1,\n",
    "    name=\"08\",\n",
    "    worker_vm_types=[\"m7g.medium\"],\n",
    "    scheduler_vm_types=[\"m7g.medium\"],\n",
    "    region=\"us-west-2\",\n",
    "    spot_policy=\"spot_with_fallback\",\n",
    ")\n",
    "\n",
    "cluster.adapt(minimum=1, maximum=100)\n",
    "\n",
    "client = cluster.get_client()"
   ]
  },
  {
   "cell_type": "code",
   "execution_count": null,
   "id": "4",
   "metadata": {},
   "outputs": [],
   "source": [
    "def shade_sun_adjustment_model():\n",
    "    \"\"\"\n",
    "    Create linear model of the approximate difference between WBGT in the sun\n",
    "    and WBGT in the shade, as derived from Figure S12 in Kong and Huber (2022).\n",
    "    \"\"\"\n",
    "    X = np.array(\n",
    "        [\n",
    "            [300, 0.5],\n",
    "            [500, 0.5],\n",
    "            [700, 0.5],\n",
    "            [900, 0.5],\n",
    "            [300, 1],\n",
    "            [500, 1],\n",
    "            [700, 1],\n",
    "            [900, 1],\n",
    "            [300, 2],\n",
    "            [500, 2],\n",
    "            [700, 2],\n",
    "            [900, 2],\n",
    "            [300, 3],\n",
    "            [500, 3],\n",
    "            [700, 3],\n",
    "            [900, 3],\n",
    "        ]\n",
    "    )\n",
    "    y = np.array(\n",
    "        [-3, -5, -6, -7, -2, -3.5, -4.5, -6, -1.5, -2.5, -3.5, -4.5, -1.5, -2, -3, -3.5]\n",
    "    )\n",
    "    regr = linear_model.LinearRegression()\n",
    "    regr.fit(X, y)\n",
    "    X = sm.add_constant(X)\n",
    "    return sm.OLS(y, X).fit()"
   ]
  },
  {
   "cell_type": "markdown",
   "id": "5",
   "metadata": {},
   "source": [
    "Set up a daily and subdaily template dataframe to use for all of the cities."
   ]
  },
  {
   "cell_type": "code",
   "execution_count": null,
   "id": "6",
   "metadata": {
    "tags": []
   },
   "outputs": [],
   "source": [
    "def calc_wbgt_in_the_sun(wbgt_shade, adjustment_model, rsds, wind):\n",
    "    \"\"\"\n",
    "    Given maximum daily solar radiation and daily average wind, use the defined\n",
    "    WBGT adjustment model to calculate a time-varying adjustment. Apply that adjustment\n",
    "    to timeseries of WBGT in the shade to create timeseries of WBGT in the sun.\n",
    "    \"\"\"\n",
    "    df_daily = pd.DataFrame(index=pd.date_range(\"1985-01-01\", \"2099-12-31\")).drop(\n",
    "        pd.date_range(\"2015-01-01\", \"2019-12-31\")\n",
    "    )\n",
    "    # Adjust maximum radiation by 0.75 per Parsons et al (2021) to account for the\n",
    "    # fact that WBGT typically peaks a few hours after solar radiation peaks, when\n",
    "    # the solar radiation is ~75% of the peak\n",
    "    radiation_adjustment = 0.75\n",
    "    df_daily[\"rsds_max\"] = rsds * radiation_adjustment\n",
    "\n",
    "    df_daily[\"sfcWind\"] = wind\n",
    "    # where wind > 3 or < 0.5 clip to constrain to domain of the adjustment model\n",
    "    df_daily[\"sfcWind_adjusted\"] = df_daily[\"sfcWind\"].where(df_daily[\"sfcWind\"] < 3, 3)\n",
    "    df_daily[\"sfcWind_adjusted\"] = df_daily[\"sfcWind_adjusted\"].where(\n",
    "        df_daily[\"sfcWind_adjusted\"] > 0.5, 0.5\n",
    "    )\n",
    "    # where solar rad > 900 or < 300 clip to constrain to domain of the adjustment model\n",
    "    df_daily[\"rsds_max_adjusted\"] = df_daily[\"rsds_max\"].where(\n",
    "        df_daily[\"rsds_max\"] < 900, 900\n",
    "    )\n",
    "    df_daily[\"rsds_max_adjusted\"] = df_daily[\"rsds_max_adjusted\"].where(\n",
    "        df_daily[\"rsds_max_adjusted\"] > 300, 300\n",
    "    )\n",
    "    try:\n",
    "        df_daily[\"shade_sun_adjustment\"] = adjustment_model.predict(\n",
    "            sm.add_constant(df_daily[[\"rsds_max_adjusted\", \"sfcWind_adjusted\"]].values)\n",
    "        )\n",
    "    except ValueError:\n",
    "        df_daily[\"shade_sun_adjustment\"] = np.nan\n",
    "    wbgt_sun = wbgt_shade - df_daily[\"shade_sun_adjustment\"].values\n",
    "    return wbgt_sun"
   ]
  },
  {
   "cell_type": "markdown",
   "id": "7",
   "metadata": {},
   "source": [
    "Load the model to calculate how much cooler it is in the shade compared to the sun."
   ]
  },
  {
   "cell_type": "code",
   "execution_count": null,
   "id": "8",
   "metadata": {
    "tags": []
   },
   "outputs": [],
   "source": [
    "adjustment_model = shade_sun_adjustment_model()"
   ]
  },
  {
   "cell_type": "markdown",
   "id": "9",
   "metadata": {},
   "source": [
    "Load wind, solar radiation, and WBGT in the shade estimates and create corresponding WBGT in the sun estimates."
   ]
  },
  {
   "cell_type": "code",
   "execution_count": null,
   "id": "10",
   "metadata": {
    "tags": []
   },
   "outputs": [],
   "source": [
    "for gcm in gcm_list[0:1]:\n",
    "    for scenario in [\"ssp245\", \"ssp370\"]:\n",
    "        ds_historical = xr.open_zarr(\n",
    "            f\"s3://carbonplan-scratch/extreme-heat/wbgt-shade-regions/\"\n",
    "            f\"{gcm}-historical-bc.zarr\"\n",
    "        )\n",
    "        ds_2030 = xr.open_zarr(\n",
    "            f\"s3://carbonplan-scratch/extreme-heat/wbgt-shade-regions/\"\n",
    "            f\"{gcm}-{scenario}-2030-bc.zarr\"\n",
    "        )\n",
    "        ds_2050 = xr.open_zarr(\n",
    "            f\"s3://carbonplan-scratch/extreme-heat/wbgt-shade-regions/\"\n",
    "            f\"{gcm}-{scenario}-2050-bc.zarr\"\n",
    "        )\n",
    "        ds_2090 = xr.open_zarr(\n",
    "            f\"s3://carbonplan-scratch/extreme-heat/wbgt-shade-regions/\"\n",
    "            f\"{gcm}-{scenario}-2090-bc.zarr\"\n",
    "        ).sel(time=slice(\"2090-01-01\", \"2099-12-31\"))\n",
    "\n",
    "        wbgt_shade = xr.concat(\n",
    "            [ds_historical, ds_2030, ds_2050, ds_2090], dim=\"time\"\n",
    "        ).chunk({\"time\": -1, \"processing_id\": 850})\n",
    "        wind = (\n",
    "            clean_up_times(\n",
    "                xr.open_zarr(\n",
    "                    f\"s3://carbonplan-scratch/extreme-heat/wind_solrad-regions/{gcm}-{scenario}-\"\n",
    "                    \"wind-solrad-regions.zarr\"\n",
    "                )[[\"sfcWind\"]].sel(\n",
    "                    processing_id=wbgt_shade[\"scen\"].processing_id.values\n",
    "                )\n",
    "            )\n",
    "            .chunk({\"time\": -1, \"processing_id\": 850})\n",
    "            .sel(time=slice(\"1985-01-01\", \"2099-12-31\"))\n",
    "        )\n",
    "        wind[\"time\"] = wind[\"time\"].dt.floor(\"D\")\n",
    "\n",
    "        rsds = clean_up_times(\n",
    "            xr.open_zarr(\n",
    "                f\"s3://carbonplan-scratch/extreme-heat/wind_solrad-regions/{gcm}-{scenario}-\"\n",
    "                \"rsds-max-regions.zarr\"\n",
    "            )\n",
    "            .rename({\"__xarray_dataarray_variable__\": \"rsds\"})[[\"rsds\"]]\n",
    "            .sel(processing_id=wbgt_shade[\"scen\"].processing_id.values)\n",
    "            .sel(time=slice(\"1985-01-01\", \"2099-12-31\"))\n",
    "        ).chunk({\"time\": -1, \"processing_id\": 850})\n",
    "        rsds[\"time\"] = rsds[\"time\"].dt.floor(\"D\")\n",
    "\n",
    "        out = xr.apply_ufunc(\n",
    "            calc_wbgt_in_the_sun,\n",
    "            wbgt_shade[\"scen\"],\n",
    "            adjustment_model,\n",
    "            rsds[\"rsds\"],\n",
    "            wind[\"sfcWind\"],\n",
    "            input_core_dims=[[\"time\"], [], [\"time\"], [\"time\"]],\n",
    "            output_core_dims=[[\"time\"]],\n",
    "            vectorize=True,\n",
    "            dask=\"parallelized\",\n",
    "            output_dtypes=[wbgt_shade[\"scen\"].dtype],\n",
    "        )\n",
    "        out = out.to_dataset(name=\"WBGT-sun\").chunk({\"processing_id\": 850, \"time\": -1})\n",
    "        out = out.to_zarr(\n",
    "            f\"s3://carbonplan-scratch/extreme-heat/wbgt-sun-regions/wbgt-sun-{gcm}-{scenario}.zarr\",\n",
    "            mode=\"w\",\n",
    "            consolidated=True,\n",
    "        )"
   ]
  }
 ],
 "metadata": {
  "language_info": {
   "codemirror_mode": {
    "name": "ipython",
    "version": 3
   },
   "file_extension": ".py",
   "mimetype": "text/x-python",
   "name": "python",
   "nbconvert_exporter": "python",
   "pygments_lexer": "ipython3",
   "version": "3.10.0"
  }
 },
 "nbformat": 4,
 "nbformat_minor": 5
}
