{
 "cells": [
  {
   "cell_type": "markdown",
   "id": "0",
   "metadata": {},
   "source": [
    "# 04: Pre-process shapefiles\n",
    "*Create the shapefiles used to aggregate climate data and communicate results.*"
   ]
  },
  {
   "cell_type": "code",
   "execution_count": null,
   "id": "1",
   "metadata": {
    "tags": []
   },
   "outputs": [],
   "source": [
    "import fsspec\n",
    "import geopandas as gpd\n",
    "import pandas as pd"
   ]
  },
  {
   "cell_type": "markdown",
   "id": "2",
   "metadata": {},
   "source": [
    "Inspired by the UHE-Daily dataset, the primary data product will focus on a set of ~13,000 global human settlements around the world as delineated by the [Global Human Settlement Urban Center Database](https://ghsl.jrc.ec.europa.eu/ghs_stat_ucdb2015mt_r2019a.php). "
   ]
  },
  {
   "cell_type": "code",
   "execution_count": null,
   "id": "3",
   "metadata": {
    "tags": []
   },
   "outputs": [],
   "source": [
    "uhe_daily_cities = gpd.read_file(\n",
    "    \"s3://carbonplan-climate-impacts/extreme-heat/v1.0/inputs/GHSL_UCDB/GHS_STAT_UCDB2015MT_GLOBE_R2019A_V1_2.gpkg\"\n",
    ")"
   ]
  },
  {
   "cell_type": "markdown",
   "id": "4",
   "metadata": {},
   "source": [
    "Expand the list of cities with an additional set of ~2,000 additional locations in the US."
   ]
  },
  {
   "cell_type": "code",
   "execution_count": null,
   "id": "5",
   "metadata": {
    "tags": []
   },
   "outputs": [],
   "source": [
    "additional_cities = gpd.read_file(\n",
    "    \"s3://carbonplan-climate-impacts/extreme-heat/v1.0/inputs/additional_us_cities.gpkg\"\n",
    ")"
   ]
  },
  {
   "cell_type": "markdown",
   "id": "6",
   "metadata": {},
   "source": [
    "For some additional analyses of non-urban areas, further expand the list with a set of ~24,000 climatically-similar regions from the Climate Impact Lab (as used in [Rode et al (2021)](https://doi.org/10.1038/s41586-021-03883-8))."
   ]
  },
  {
   "cell_type": "code",
   "execution_count": null,
   "id": "7",
   "metadata": {
    "tags": []
   },
   "outputs": [],
   "source": [
    "regions_path = \"s3://carbonplan-climate-impacts/extreme-heat/v1.0/inputs/high-res-regions-simplified.topo.json\"\n",
    "with fsspec.open(regions_path) as file:\n",
    "    regions = gpd.read_file(file)"
   ]
  },
  {
   "cell_type": "code",
   "execution_count": null,
   "id": "8",
   "metadata": {
    "tags": []
   },
   "outputs": [],
   "source": [
    "regions = regions.set_crs(\"EPSG:4326\")"
   ]
  },
  {
   "cell_type": "markdown",
   "id": "9",
   "metadata": {},
   "source": [
    "Select out unique identifiers for each of the two city shapefiles."
   ]
  },
  {
   "cell_type": "code",
   "execution_count": null,
   "id": "10",
   "metadata": {
    "tags": []
   },
   "outputs": [],
   "source": [
    "all_cities = pd.concat(\n",
    "    [\n",
    "        uhe_daily_cities[[\"ID_HDC_G0\", \"UC_NM_MN\", \"geometry\"]],\n",
    "        additional_cities[[\"UACE20\", \"NAMELSAD20\", \"geometry\"]],\n",
    "    ],\n",
    "    ignore_index=True,\n",
    ")"
   ]
  },
  {
   "cell_type": "markdown",
   "id": "11",
   "metadata": {
    "tags": []
   },
   "source": [
    "Overlay the cities with the regions and take the difference to create regions that do not include the cities. These will often look like donuts, with regions having empty hole(s) where they overlap with cities. These regions will support population-level analyses that aim to separate effects between urban and non-urban areas. There are ~300 regions with no non-city areas and these are dropped from the regions. "
   ]
  },
  {
   "cell_type": "code",
   "execution_count": null,
   "id": "12",
   "metadata": {
    "tags": []
   },
   "outputs": [],
   "source": [
    "regions_excluding_cities = regions.overlay(all_cities, how=\"difference\")"
   ]
  },
  {
   "cell_type": "markdown",
   "id": "13",
   "metadata": {},
   "source": [
    "Combine the cities with the regions-with-cities-excluded into a singled dataset."
   ]
  },
  {
   "cell_type": "code",
   "execution_count": null,
   "id": "14",
   "metadata": {
    "tags": []
   },
   "outputs": [],
   "source": [
    "all_regions = pd.concat(\n",
    "    [all_cities, regions_excluding_cities[[\"gadmid\", \"hierid\", \"ISO\", \"geometry\"]]],\n",
    "    ignore_index=True,\n",
    ")"
   ]
  },
  {
   "cell_type": "markdown",
   "id": "15",
   "metadata": {},
   "source": [
    "Make a new unique identifier which will be used in subsequent steps."
   ]
  },
  {
   "cell_type": "code",
   "execution_count": null,
   "id": "16",
   "metadata": {
    "tags": []
   },
   "outputs": [],
   "source": [
    "all_regions[\"processing_id\"] = all_regions.index"
   ]
  },
  {
   "cell_type": "code",
   "execution_count": null,
   "id": "17",
   "metadata": {
    "tags": []
   },
   "outputs": [],
   "source": [
    "all_regions.to_file(\n",
    "    \"s3://carbonplan-climate-impacts/extreme-heat/v1.0/inputs/all_regions_and_cities.json\",\n",
    "    driver=\"GeoJSON\",\n",
    ")"
   ]
  }
 ],
 "metadata": {
  "language_info": {
   "codemirror_mode": {
    "name": "ipython",
    "version": 3
   },
   "file_extension": ".py",
   "mimetype": "text/x-python",
   "name": "python",
   "nbconvert_exporter": "python",
   "pygments_lexer": "ipython3",
   "version": "3.10.11"
  }
 },
 "nbformat": 4,
 "nbformat_minor": 5
}
