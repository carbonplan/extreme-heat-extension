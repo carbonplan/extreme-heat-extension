{
 "cells": [
  {
   "cell_type": "markdown",
   "id": "0",
   "metadata": {
    "tags": []
   },
   "source": [
    "# 10: Package selected statistics into CSV files\n",
    "*Package thresholded summary statistics into CSV files.*"
   ]
  },
  {
   "cell_type": "code",
   "execution_count": null,
   "id": "1",
   "metadata": {
    "tags": []
   },
   "outputs": [],
   "source": [
    "import fsspec\n",
    "import geopandas as gpd\n",
    "import xarray as xr"
   ]
  },
  {
   "cell_type": "code",
   "execution_count": null,
   "id": "2",
   "metadata": {
    "tags": []
   },
   "outputs": [],
   "source": [
    "def write_out_csvs(\n",
    "    metric,\n",
    "    regions_df,\n",
    "    variable,\n",
    "    units,\n",
    "    threshold=None,\n",
    "):\n",
    "    \"\"\"\n",
    "    Read in annual maximum and days over threshold summary datasets and write out\"\n",
    "    CSVs for the multimodel medians.\n",
    "    \"\"\"\n",
    "    template_df = regions_df[\n",
    "        [\"ID_HDC_G0\", \"UC_NM_MN\", \"processing_id\", \"longitude\", \"latitude\"]\n",
    "    ].sort_values(\"processing_id\")\n",
    "    column_variable_name = variable.replace(\"_\", \" \")\n",
    "    ds_var_name = variable\n",
    "    if variable == \"days_over\":\n",
    "        column_variable_name += f\" {threshold} {units}\"\n",
    "        ds_var_name = f\"days_exceeding_{threshold}{units}\"\n",
    "    elif variable == \"holiday_days_over\":\n",
    "        print(column_variable_name)\n",
    "        column_variable_name += f\" {threshold} {units}\"\n",
    "        ds_var_name = f\"holiday_days_exceeding_{threshold}{units}\"\n",
    "    for scenario in [\n",
    "        \"historical\",\n",
    "        \"ssp245-2030\",\n",
    "        \"ssp245-2050\",\n",
    "        \"ssp245-2090\",\n",
    "        \"ssp370-2030\",\n",
    "        \"ssp370-2050\",\n",
    "        \"ssp370-2090\",\n",
    "    ]:\n",
    "        results = xr.open_zarr(\n",
    "            f\"s3://carbonplan-scratch/extreme-heat-extension/v1.1/outputs/zarr/summaries/\"\n",
    "            f\"{scenario}-summaries-WBGT-{metric.split('-')[1]}.zarr\"\n",
    "        )\n",
    "        if scenario == \"historical\":\n",
    "            df = (\n",
    "                results.sel(gcm=\"multimodel_media\")\n",
    "                .sel(scenario=\"ssp245\")\n",
    "                .drop(\"gcm\")[ds_var_name]\n",
    "                .to_dataframe()\n",
    "                .sort_values(\"processing_id\")\n",
    "            )\n",
    "        else:\n",
    "            df = (\n",
    "                results.sel(gcm=\"multimodel_media\")\n",
    "                .sel(scenario=scenario.split(\"-\")[0])\n",
    "                .drop(\"gcm\")[ds_var_name]\n",
    "                .to_dataframe()\n",
    "                .sort_values(\"processing_id\")\n",
    "            )\n",
    "        template_df[f\"{column_variable_name} - CarbonPlan - {scenario}\"] = df[\n",
    "            ds_var_name\n",
    "        ]\n",
    "\n",
    "    data_columns = [\n",
    "        f\"{column_variable_name} - CarbonPlan - historical\",\n",
    "        f\"{column_variable_name} - CarbonPlan - ssp245-2030\",\n",
    "        f\"{column_variable_name} - CarbonPlan - ssp245-2050\",\n",
    "        f\"{column_variable_name} - CarbonPlan - ssp245-2090\",\n",
    "        f\"{column_variable_name} - CarbonPlan - ssp370-2030\",\n",
    "        f\"{column_variable_name} - CarbonPlan - ssp370-2050\",\n",
    "        f\"{column_variable_name} - CarbonPlan - ssp370-2090\",\n",
    "    ]\n",
    "    if variable == \"annual_maximum\":\n",
    "        ~template_df[data_columns].isnull().any(axis=1)\n",
    "    variable_file_name = f\"{variable.replace('_', '-')}\"\n",
    "    if variable == \"days_over\":\n",
    "        variable_file_name += f\"-{threshold}\"\n",
    "    metric_file_name = f\"{metric.split('-')[0].upper()}-{metric.split('-')[1]}\"\n",
    "    # Remove one processing id which was invalid being outside of the domain.\n",
    "    template_df = template_df.set_index(\"processing_id\").reindex()\n",
    "    out_file_name = (\n",
    "        f\"s3://carbonplan-scratch/extreme-heat-extension/v1.1/outputs/csv/\"\n",
    "        f\"carbonplan-extreme-heat-{column_variable_name.replace(' ', '-')}\"\n",
    "        f\"-{metric_file_name}.csv\"\n",
    "    )\n",
    "    template_df.to_csv(out_file_name, index=False)"
   ]
  },
  {
   "cell_type": "code",
   "execution_count": null,
   "id": "3",
   "metadata": {
    "tags": []
   },
   "outputs": [],
   "source": [
    "path = (\n",
    "    \"s3://carbonplan-climate-impacts/extreme-heat/v1.0/inputs/\"\n",
    "    \"all_regions_and_cities.json\"\n",
    ")\n",
    "with fsspec.open(path) as file:\n",
    "    regions_df = gpd.read_file(file)\n",
    "sample_ds = xr.open_zarr(\n",
    "    \"s3://carbonplan-scratch/extreme-heat/wbgt-sun-regions/wbgt-sun-ACCESS-CM2-ssp245.zarr\"\n",
    ")\n",
    "regions_df = regions_df[\n",
    "    regions_df[\"processing_id\"].isin(sample_ds.processing_id.values)\n",
    "]\n",
    "regions_df = regions_df.drop(\n",
    "    [\"UACE20\", \"NAMELSAD20\", \"gadmid\", \"hierid\", \"ISO\"], axis=1\n",
    ")"
   ]
  },
  {
   "cell_type": "code",
   "execution_count": null,
   "id": "4",
   "metadata": {},
   "outputs": [],
   "source": [
    "regions_df[\"longitude\"] = regions_df.centroid.x\n",
    "regions_df[\"latitude\"] = regions_df.centroid.y"
   ]
  },
  {
   "cell_type": "markdown",
   "id": "5",
   "metadata": {},
   "source": [
    "Write out CSVs summarizing historical and future annual maxima for WBGT in the sun and in the shade."
   ]
  },
  {
   "cell_type": "code",
   "execution_count": null,
   "id": "6",
   "metadata": {
    "tags": []
   },
   "outputs": [],
   "source": [
    "for metric in [\"wbgt-shade\", \"wbgt-sun\"]:\n",
    "    write_out_csvs(metric, regions_df, \"annual_maximum\", units=\"degC\")"
   ]
  },
  {
   "cell_type": "markdown",
   "id": "7",
   "metadata": {
    "tags": []
   },
   "source": [
    "Write out CSVs summarizing historical and future days over threshold for WBGT in the sun and in the shade."
   ]
  },
  {
   "cell_type": "code",
   "execution_count": null,
   "id": "8",
   "metadata": {
    "tags": []
   },
   "outputs": [],
   "source": [
    "for metric in [\"wbgt-shade\", \"wbgt-sun\"]:\n",
    "    for threshold in [25, 27, 29, 30.5, 32, 35]:\n",
    "        write_out_csvs(\n",
    "            metric, regions_df, \"days_over\", threshold=threshold, units=\"degC\"\n",
    "        )"
   ]
  },
  {
   "cell_type": "markdown",
   "id": "9",
   "metadata": {},
   "source": [
    "Write out CSVs summarizing historical and future days in the holiday season exceeding different thresholds of WBGT in the sun and in the shade."
   ]
  },
  {
   "cell_type": "code",
   "execution_count": null,
   "id": "10",
   "metadata": {
    "tags": []
   },
   "outputs": [],
   "source": [
    "for metric in [\"wbgt-shade\", \"wbgt-sun\"]:\n",
    "    for threshold in [25, 27, 29, 30.5, 32, 35]:\n",
    "        write_out_csvs(\n",
    "            metric, regions_df, \"holiday_days_over\", threshold=threshold, units=\"degC\"\n",
    "        )"
   ]
  }
 ],
 "metadata": {
  "kernelspec": {
   "display_name": "",
   "name": ""
  },
  "language_info": {
   "codemirror_mode": {
    "name": "ipython",
    "version": 3
   },
   "file_extension": ".py",
   "mimetype": "text/x-python",
   "name": "python",
   "nbconvert_exporter": "python",
   "pygments_lexer": "ipython3",
   "version": "3.10.13"
  }
 },
 "nbformat": 4,
 "nbformat_minor": 5
}
